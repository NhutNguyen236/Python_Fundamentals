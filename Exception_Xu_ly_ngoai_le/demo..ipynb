{
 "cells": [
  {
   "cell_type": "markdown",
   "metadata": {},
   "source": [
    "# Except - finally \n"
   ]
  },
  {
   "cell_type": "code",
   "execution_count": null,
   "metadata": {},
   "outputs": [],
   "source": [
    "try:\n",
    "    a = int(input(\"a: \"))\n",
    "    b = int(input(\"b: \"))\n",
    "    if b == 0:\n",
    "        raise ZeroDivisionError(\"Lỗi chia cho 0\")\n",
    "    thuong = a / b\n",
    "except ZeroDivisionError as err:\n",
    "    print('Error1: ', err)\n",
    "except NameError as err:\n",
    "    print('Error: ', err)\n",
    "else: \n",
    "    print('Thương: ', thuong)"
   ]
  }
 ],
 "metadata": {
  "language_info": {
   "name": "python"
  }
 },
 "nbformat": 4,
 "nbformat_minor": 2
}
