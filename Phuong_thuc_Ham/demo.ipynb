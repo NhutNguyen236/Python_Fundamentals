{
 "cells": [
  {
   "cell_type": "markdown",
   "metadata": {},
   "source": [
    "- Hàm truyền bằng tham trị (pass by value): truyền vào là 1 biến số\n",
    "- Hàm truyền bằng tham chiếu (pass by reference): truyền vào là 1 list, tuple hay set"
   ]
  },
  {
   "cell_type": "code",
   "execution_count": 1,
   "metadata": {},
   "outputs": [
    {
     "name": "stdout",
     "output_type": "stream",
     "text": [
      "nhập vào danh sách số kết thúc nhấn enter\n",
      "[1, 2, 3, 4]\n"
     ]
    }
   ],
   "source": [
    "# pass by reference\n",
    "def add_ele(list):\n",
    "    print(\"nhập vào danh sách số kết thúc nhấn enter\")\n",
    "    while True: \n",
    "        so = input()\n",
    "        if so != '':\n",
    "            list.append(int(so))\n",
    "        else:\n",
    "            break\n",
    "\n",
    "list_so = []\n",
    "add_ele(list_so)\n",
    "# for example, we add 1,2,3 to list_so by running function add_ele\n",
    "# we see that list_so will be affected\n",
    "print(list_so)"
   ]
  },
  {
   "cell_type": "markdown",
   "metadata": {},
   "source": [
    "# *args->list and **kwargs -> dictionary"
   ]
  },
  {
   "cell_type": "code",
   "execution_count": 4,
   "metadata": {},
   "outputs": [
    {
     "name": "stdout",
     "output_type": "stream",
     "text": [
      "John\n",
      "('mickey', [1, 2, 3])\n",
      "<class 'tuple'>\n"
     ]
    }
   ],
   "source": [
    "def print_pet_name(owner, *pets):\n",
    "    print(owner)\n",
    "    print(pets)\n",
    "    print(type(pets))\n",
    "    \n",
    "print_pet_name(\"John\", \"mickey\", [1,2,3])"
   ]
  },
  {
   "cell_type": "markdown",
   "metadata": {},
   "source": [
    "# Lambda function\n",
    "\n",
    "lambda [arg1, arg2, ... ,argn]: expression"
   ]
  },
  {
   "cell_type": "code",
   "execution_count": 5,
   "metadata": {},
   "outputs": [
    {
     "name": "stdout",
     "output_type": "stream",
     "text": [
      "10 là số chẵn\n"
     ]
    }
   ],
   "source": [
    "xet_chan_le = lambda x: str(x) + ' là số chẵn' if x % 2 == 0 else str(x) + \" là số lẻ\"\n",
    "print(xet_chan_le(10))"
   ]
  },
  {
   "cell_type": "markdown",
   "metadata": {},
   "source": [
    "# Map, filter, reduce"
   ]
  },
  {
   "cell_type": "code",
   "execution_count": null,
   "metadata": {},
   "outputs": [],
   "source": [
    "# mapping \n"
   ]
  }
 ],
 "metadata": {
  "kernelspec": {
   "display_name": "Python 3",
   "language": "python",
   "name": "python3"
  },
  "language_info": {
   "codemirror_mode": {
    "name": "ipython",
    "version": 3
   },
   "file_extension": ".py",
   "mimetype": "text/x-python",
   "name": "python",
   "nbconvert_exporter": "python",
   "pygments_lexer": "ipython3",
   "version": "3.11.0"
  }
 },
 "nbformat": 4,
 "nbformat_minor": 2
}
