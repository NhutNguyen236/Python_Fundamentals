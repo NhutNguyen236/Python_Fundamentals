{
 "cells": [
  {
   "cell_type": "code",
   "execution_count": 2,
   "metadata": {},
   "outputs": [
    {
     "name": "stdout",
     "output_type": "stream",
     "text": [
      "Dong 1: Humpty Dumpty sat on a wall,\n",
      "\n",
      "Dong 2: Humpty Dumpty had a great fall.\n",
      "\n",
      "Dong 3: All the king's horses and all the king's men\n",
      "\n",
      "Dong 4: Couldn't put Humpty together again.\n"
     ]
    }
   ],
   "source": [
    "f =  open('du_lieu/HumptyDumpty.txt', mode = 'r', encoding = 'utf-8')\n",
    "\n",
    "dem = 0 \n",
    "while True: \n",
    "    dem += 1\n",
    "    dong = f.readline()\n",
    "    if not dong:\n",
    "        break\n",
    "    else:\n",
    "        print(f\"Dong {dem}: {dong}\")"
   ]
  },
  {
   "cell_type": "markdown",
   "metadata": {},
   "source": [
    "# write each line to file txt"
   ]
  },
  {
   "cell_type": "code",
   "execution_count": 1,
   "metadata": {},
   "outputs": [],
   "source": [
    "f = open('van_ban.txt', mode = 'w', encoding='utf-8')\n",
    "noi_dung = '''\n",
    "    hello world\n",
    "    goodbye world\n",
    "'''\n",
    "f.write(noi_dung)\n",
    "f.close()"
   ]
  },
  {
   "cell_type": "code",
   "execution_count": 2,
   "metadata": {},
   "outputs": [],
   "source": [
    "f = open('van_ban1.txt', mode = 'w', encoding='utf-8')\n",
    "danh_sach = [\n",
    "    'hello world \\n',\n",
    "    'goodbye world'\n",
    "]\n",
    "\n",
    "f.writelines(danh_sach)\n",
    "f.close()"
   ]
  },
  {
   "cell_type": "markdown",
   "metadata": {},
   "source": [
    "# tell() and seek()"
   ]
  },
  {
   "cell_type": "code",
   "execution_count": 5,
   "metadata": {},
   "outputs": [
    {
     "name": "stdout",
     "output_type": "stream",
     "text": [
      "hello w\n"
     ]
    }
   ],
   "source": [
    "f = open('van_ban1.txt', mode='r',encoding='utf-8')\n",
    "\n",
    "noi_dung = f.read(7)\n",
    "print(noi_dung)"
   ]
  },
  {
   "cell_type": "markdown",
   "metadata": {},
   "source": [
    "# with keyword\n",
    "- it will just operate with file inside the with method"
   ]
  },
  {
   "cell_type": "code",
   "execution_count": 3,
   "metadata": {},
   "outputs": [
    {
     "name": "stdout",
     "output_type": "stream",
     "text": [
      "Dong 1: hello world \n",
      "\n",
      "Dong 2: goodbye world\n"
     ]
    }
   ],
   "source": [
    "with open('van_ban1.txt', mode='r', encoding='utf-8') as f:\n",
    "    dem = 0\n",
    "    while True: \n",
    "        dem += 1\n",
    "        dong = f.readline()\n",
    "        if not dong:\n",
    "            break\n",
    "        else:\n",
    "            print(f\"Dong {dem}: {dong}\")"
   ]
  },
  {
   "cell_type": "markdown",
   "metadata": {},
   "source": [
    "# csv reading with csv reader      "
   ]
  },
  {
   "cell_type": "code",
   "execution_count": 7,
   "metadata": {},
   "outputs": [
    {
     "name": "stdout",
     "output_type": "stream",
     "text": [
      "['Nhân Viên 1', 'nv1', 'nv01', 'nv1@csc.hcmus.edu.vn']\n",
      "['Nhân Viên 2', 'nv2', 'nv02', 'nv2@csc.hcmus.edu.vn']\n",
      "['Nhân Viên 3', 'nv3', 'nv03', 'nv3@csc.hcmus.edu.vn']\n",
      "['Nhân Viên 4', 'nv4', 'nv04', 'nv4@csc.hcmus.edu.vn']\n",
      "['Nhân Viên 5', 'nv5', 'nv05', 'nv5@csc.hcmus.edu.vn']\n"
     ]
    }
   ],
   "source": [
    "import csv \n",
    "with open('du_lieu/nhan_vien.csv', 'r', encoding='utf-8') as f:\n",
    "    read_obj = csv.reader(f)\n",
    "    # bỏ qua dòng tiêu đề\n",
    "    # next(read_obj)\n",
    "    for i in read_obj:\n",
    "        print(i)"
   ]
  },
  {
   "cell_type": "markdown",
   "metadata": {},
   "source": [
    "# csv reading as dictionary using csv.DictReader"
   ]
  },
  {
   "cell_type": "code",
   "execution_count": 8,
   "metadata": {},
   "outputs": [
    {
     "name": "stdout",
     "output_type": "stream",
     "text": [
      "{'Họ tên': 'Nhân Viên 1', 'Tên đăng nhập': 'nv1', 'Mật khẩu': 'nv01', 'Email': 'nv1@csc.hcmus.edu.vn'}\n",
      "{'Họ tên': 'Nhân Viên 2', 'Tên đăng nhập': 'nv2', 'Mật khẩu': 'nv02', 'Email': 'nv2@csc.hcmus.edu.vn'}\n",
      "{'Họ tên': 'Nhân Viên 3', 'Tên đăng nhập': 'nv3', 'Mật khẩu': 'nv03', 'Email': 'nv3@csc.hcmus.edu.vn'}\n",
      "{'Họ tên': 'Nhân Viên 4', 'Tên đăng nhập': 'nv4', 'Mật khẩu': 'nv04', 'Email': 'nv4@csc.hcmus.edu.vn'}\n",
      "{'Họ tên': 'Nhân Viên 5', 'Tên đăng nhập': 'nv5', 'Mật khẩu': 'nv05', 'Email': 'nv5@csc.hcmus.edu.vn'}\n"
     ]
    }
   ],
   "source": [
    "import csv \n",
    "with open('du_lieu/nhan_vien.csv', 'r', encoding='utf-8') as f:\n",
    "    read_obj = csv.DictReader(f)\n",
    "    for i in read_obj:\n",
    "        print(i)"
   ]
  },
  {
   "cell_type": "markdown",
   "metadata": {},
   "source": [
    "# write csv file \n",
    "- there are 2 method that you can use writerow and writerows\n",
    "- writerow -> write a single line to csv file\n",
    "- writerows -> write multiple lines to csv file (I love this one more) "
   ]
  },
  {
   "cell_type": "code",
   "execution_count": 9,
   "metadata": {},
   "outputs": [],
   "source": [
    "import csv\n",
    "\n",
    "noi_dung = [\n",
    "    ['city', 'hello'],\n",
    "    ['new york', 'kitty']\n",
    "]\n",
    "\n",
    "f = open('try.csv', 'w', encoding='utf-8', newline='')\n",
    "write_obj = csv.writer(f)\n",
    "write_obj.writerows(noi_dung)\n",
    "f.close()"
   ]
  }
 ],
 "metadata": {
  "kernelspec": {
   "display_name": "Python 3",
   "language": "python",
   "name": "python3"
  },
  "language_info": {
   "codemirror_mode": {
    "name": "ipython",
    "version": 3
   },
   "file_extension": ".py",
   "mimetype": "text/x-python",
   "name": "python",
   "nbconvert_exporter": "python",
   "pygments_lexer": "ipython3",
   "version": "3.11.0"
  }
 },
 "nbformat": 4,
 "nbformat_minor": 2
}
