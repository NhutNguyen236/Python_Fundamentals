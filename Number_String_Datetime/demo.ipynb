{
 "cells": [
  {
   "cell_type": "markdown",
   "metadata": {},
   "source": [
    "# DateTime and things around it"
   ]
  },
  {
   "cell_type": "code",
   "execution_count": 1,
   "metadata": {},
   "outputs": [
    {
     "name": "stdout",
     "output_type": "stream",
     "text": [
      "1696685754.3703449\n"
     ]
    }
   ],
   "source": [
    "import time \n",
    "seconds = time.time()\n",
    "print(seconds)"
   ]
  },
  {
   "cell_type": "code",
   "execution_count": 3,
   "metadata": {},
   "outputs": [
    {
     "name": "stdout",
     "output_type": "stream",
     "text": [
      "Sat Oct  7 20:40:49 2023\n"
     ]
    }
   ],
   "source": [
    "import time \n",
    "seconds = time.time()\n",
    "local_time = time.ctime(seconds)\n",
    "print(local_time)"
   ]
  },
  {
   "cell_type": "code",
   "execution_count": 4,
   "metadata": {},
   "outputs": [
    {
     "name": "stdout",
     "output_type": "stream",
     "text": [
      "time.struct_time(tm_year=2023, tm_mon=10, tm_mday=7, tm_hour=22, tm_min=52, tm_sec=55, tm_wday=5, tm_yday=280, tm_isdst=0)\n"
     ]
    }
   ],
   "source": [
    "import time\n",
    "seconds = time.time()\n",
    "local_time = time.localtime(seconds)\n",
    "print(local_time)"
   ]
  },
  {
   "cell_type": "code",
   "execution_count": 2,
   "metadata": {},
   "outputs": [
    {
     "name": "stdout",
     "output_type": "stream",
     "text": [
      "The number of days in October 2023 is (6, 31).\n"
     ]
    }
   ],
   "source": [
    "import calendar\n",
    "\n",
    "def count_days(year, month):\n",
    "    num_days = calendar.monthrange(year, month)\n",
    "    return num_days\n",
    "\n",
    "year = 2023\n",
    "month = 10\n",
    "\n",
    "num_days = count_days(year, month)\n",
    "print(f\"The number of days in {calendar.month_name[month]} {year} is {num_days}.\")"
   ]
  },
  {
   "cell_type": "code",
   "execution_count": 8,
   "metadata": {},
   "outputs": [
    {
     "name": "stdout",
     "output_type": "stream",
     "text": [
      "[30, 31, 0, 0, 0, 0, 0]\n",
      "[30, 31]\n",
      "thứ 3\n"
     ]
    }
   ],
   "source": [
    "# Lấy ra thứ của ngày cuối cùng trong tháng\n",
    "import calendar \n",
    "cal = calendar.monthcalendar(2023, 1)\n",
    "\n",
    "# Lấy ra tuần cuối cùng của tháng\n",
    "last_week = cal[-1]\n",
    "print(last_week)\n",
    "\n",
    "# Lọc hết tất cả số 0 ra để chừa lại giá trị số nguyên duy nhất\n",
    "last_week = [i for i in last_week if i != 0]\n",
    "print(last_week)\n",
    "\n",
    "# tạo 1 dict chứa các thứ tương ứng\n",
    "date = {0: \"thứ 2\", 1: \"thứ 3\", 2: \"thứ 4\", 3: \"thứ 5\", 4: \"thứ 6\", 5: \"thứ 7\", 6: \"chủ nhật\"}\n",
    "\n",
    "# print ra thứ cuối cùng \n",
    "print(date[len(last_week) - 1])"
   ]
  },
  {
   "cell_type": "code",
   "execution_count": 10,
   "metadata": {},
   "outputs": [
    {
     "name": "stdout",
     "output_type": "stream",
     "text": [
      "Tuesday\n"
     ]
    }
   ],
   "source": [
    "import calendar\n",
    "import datetime\n",
    "\n",
    "# get number of days in aa month\n",
    "_, num_days = calendar.monthrange(2023, 1)\n",
    "last_day = datetime.date(2023, 1 , num_days)\n",
    "\n",
    "\n",
    "print(last_day.strftime(\"%A\"))"
   ]
  },
  {
   "cell_type": "code",
   "execution_count": 38,
   "metadata": {},
   "outputs": [
    {
     "name": "stdout",
     "output_type": "stream",
     "text": [
      "1\n",
      "1\n"
     ]
    }
   ],
   "source": [
    "# Lấy ngày chủ nhật đầu tiên trong \n",
    "import calendar \n",
    "cal = calendar.monthcalendar(2023, 1)\n",
    "\n",
    "# khởi tạo biến chứa ngày chủ nhật\n",
    "sunday = 0\n",
    "# check xem ngày chủ nhật đầu tiên có bằng 0 ko?\n",
    "for week in cal:\n",
    "    print(week[6])\n",
    "    if(week[6] != 0):\n",
    "        sunday = week[6]\n",
    "        break\n",
    "print(sunday)"
   ]
  },
  {
   "cell_type": "code",
   "execution_count": 2,
   "metadata": {},
   "outputs": [
    {
     "name": "stdout",
     "output_type": "stream",
     "text": [
      "1999-07-11 00:00:00\n"
     ]
    }
   ],
   "source": [
    "import datetime\n",
    "date = \"11 July 1999\"\n",
    "\n",
    "print(datetime.datetime.strptime(date, '%d %B %Y'))"
   ]
  }
 ],
 "metadata": {
  "kernelspec": {
   "display_name": "Python 3",
   "language": "python",
   "name": "python3"
  },
  "language_info": {
   "codemirror_mode": {
    "name": "ipython",
    "version": 3
   },
   "file_extension": ".py",
   "mimetype": "text/x-python",
   "name": "python",
   "nbconvert_exporter": "python",
   "pygments_lexer": "ipython3",
   "version": "3.11.0"
  }
 },
 "nbformat": 4,
 "nbformat_minor": 2
}
