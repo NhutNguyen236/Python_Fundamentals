{
 "cells": [
  {
   "cell_type": "markdown",
   "metadata": {},
   "source": [
    "# Dữ liệu dạng cơ sở và dữ liệu dạng danh sách\n",
    "- Dạng dữ liệu danh sách sẽ chiếm nhiều bộ nhớ hơn và nó sẽ trỏ đến cùng địa chỉ cấp phát cho từng dạng danh sách "
   ]
  },
  {
   "cell_type": "code",
   "execution_count": 1,
   "metadata": {},
   "outputs": [
    {
     "name": "stdout",
     "output_type": "stream",
     "text": [
      "[1, 20, 3]\n",
      "[1, 20, 3]\n"
     ]
    }
   ],
   "source": [
    "\n",
    "lst1 = [1,2,3]\n",
    "lst2 = lst1\n",
    "lst2[1] = 20\n",
    "print(lst1) # [1, 20, 3]\n",
    "print(lst2) # [1, 20, 3]"
   ]
  },
  {
   "cell_type": "code",
   "execution_count": 1,
   "metadata": {},
   "outputs": [
    {
     "name": "stdout",
     "output_type": "stream",
     "text": [
      "[1, 1, 2]\n"
     ]
    }
   ],
   "source": [
    "list = []\n",
    "list.append(1)\n",
    "list.append(1)\n",
    "list.append(2)\n",
    "\n",
    "print(list)"
   ]
  },
  {
   "cell_type": "markdown",
   "metadata": {},
   "source": [
    "# Tuple \n",
    "- Do tuple ko thay đổi nên ta ko thể cập nhật/ xoá phần tử trong tuple\n",
    "- Nó tương tự như list nhưng ko có sort, reverse, remove, pop, insert, extend, append"
   ]
  },
  {
   "cell_type": "code",
   "execution_count": 2,
   "metadata": {},
   "outputs": [
    {
     "name": "stdout",
     "output_type": "stream",
     "text": [
      "(3,)\n"
     ]
    }
   ],
   "source": [
    "# make a tuple \n",
    "tuple = (1, 2, 3)\n",
    "\n",
    "print(tuple[2:])"
   ]
  },
  {
   "cell_type": "code",
   "execution_count": 2,
   "metadata": {},
   "outputs": [
    {
     "name": "stdout",
     "output_type": "stream",
     "text": [
      "0\n",
      "1\n",
      "2\n",
      "3\n",
      "4\n",
      "5\n",
      "6\n",
      "7\n",
      "8\n",
      "9\n"
     ]
    }
   ],
   "source": [
    "tuple_colors  =  ('red',  'green',  'yellow',  'blue',  'black',  'white', 'pink', 'orange', 'red', 'blue')\n",
    "\n",
    "index_pos = []\n",
    "for i in range (0, len(tuple_colors)):\n",
    "    if()"
   ]
  },
  {
   "cell_type": "markdown",
   "metadata": {},
   "source": [
    "# Dictionary \n"
   ]
  },
  {
   "cell_type": "code",
   "execution_count": 3,
   "metadata": {},
   "outputs": [
    {
     "name": "stdout",
     "output_type": "stream",
     "text": [
      "['đàn ông', 'nam nhi', 'con trai']\n"
     ]
    }
   ],
   "source": [
    "tu_dien = {\n",
    "    'man': ['đàn ông', 'nam nhi'],\n",
    "    'woman': ['đàn bà', 'phụ nữ'],\n",
    "    'sun': ['mặt trời'],\n",
    "    'moon': ['mặt trăng'],\n",
    "    'earth': ['trái đất', 'địa cầu'],\n",
    "    'mountain': ['núi', 'ngọn núi'],\n",
    "    'table': ['cái bàn'],\n",
    "    'ball': ['quả bóng'],\n",
    "    'flower': ['hoa', 'bông hoa'],\n",
    "    'fan': ['cái quạt']\n",
    "}\n",
    "\n",
    "# thêm nghĩa cho từ - add more meaning to word \n",
    "tu_dien['man'].append('con trai')\n",
    "print(tu_dien['man'])"
   ]
  },
  {
   "cell_type": "markdown",
   "metadata": {},
   "source": [
    "# Set\n",
    "- Set ko cho phép các phần tử bị lặp trong list\n"
   ]
  },
  {
   "cell_type": "code",
   "execution_count": 4,
   "metadata": {},
   "outputs": [
    {
     "name": "stdout",
     "output_type": "stream",
     "text": [
      "{1, 2, 3, 4, 5}\n"
     ]
    }
   ],
   "source": [
    "my_list = [1, 2, 3, 3, 4, 5, 5]\n",
    "my_set = set(my_list)\n",
    "print(my_set)"
   ]
  },
  {
   "cell_type": "code",
   "execution_count": 8,
   "metadata": {},
   "outputs": [
    {
     "name": "stdout",
     "output_type": "stream",
     "text": [
      "<class 'list'>\n",
      "[1, 2, 3, 4, 5]\n",
      "[5, 4, 3, 2, 1]\n"
     ]
    }
   ],
   "source": [
    "set = {1, 2, 3, 4, 5} \n",
    "tang_dan = sorted(set)\n",
    "giam_dan = sorted(set, reverse = True) \n",
    "print(type(tang_dan))\n",
    "print(tang_dan)\n",
    "print(giam_dan)"
   ]
  },
  {
   "cell_type": "code",
   "execution_count": 1,
   "metadata": {},
   "outputs": [
    {
     "name": "stdout",
     "output_type": "stream",
     "text": [
      "{1, 2, 3, 4}\n"
     ]
    }
   ],
   "source": [
    "my_set = {4}\n",
    "my_set.update([1,2,3])\n",
    "print(my_set)"
   ]
  }
 ],
 "metadata": {
  "kernelspec": {
   "display_name": "Python 3",
   "language": "python",
   "name": "python3"
  },
  "language_info": {
   "codemirror_mode": {
    "name": "ipython",
    "version": 3
   },
   "file_extension": ".py",
   "mimetype": "text/x-python",
   "name": "python",
   "nbconvert_exporter": "python",
   "pygments_lexer": "ipython3",
   "version": "3.11.0"
  }
 },
 "nbformat": 4,
 "nbformat_minor": 2
}
